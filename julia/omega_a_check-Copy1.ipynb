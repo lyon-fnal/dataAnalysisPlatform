{
 "cells": [
  {
   "cell_type": "markdown",
   "metadata": {},
   "source": [
    "# Compare momentum and spin angles\n",
    "This is from an MDC2 MC production. \n",
    "\n",
    "We'll use `Heist.jl` which is a Julia wrapper around gallery that Adam wrote. See https://github.com/lyon-fnal/Heist.jl. "
   ]
  },
  {
   "cell_type": "code",
   "execution_count": 1,
   "metadata": {
    "ExecuteTime": {
     "end_time": "2017-11-30T12:29:20.627000-06:00",
     "start_time": "2017-11-30T18:28:32.809Z"
    }
   },
   "outputs": [],
   "source": [
    "using Cxx, ROOT, Heist, Plots, ProgressMeter"
   ]
  },
  {
   "cell_type": "markdown",
   "metadata": {},
   "source": [
    "## Find data"
   ]
  },
  {
   "cell_type": "markdown",
   "metadata": {},
   "source": [
    "Let's find some data in `/pnfs`. "
   ]
  },
  {
   "cell_type": "code",
   "execution_count": 2,
   "metadata": {
    "ExecuteTime": {
     "end_time": "2017-11-30T12:29:21.778000-06:00",
     "start_time": "2017-11-30T18:28:32.812Z"
    }
   },
   "outputs": [
    {
     "name": "stdout",
     "output_type": "stream",
     "text": [
      "There are 11 files\n"
     ]
    }
   ],
   "source": [
    "const filesDir = \"/pnfs/GM2/mc/commission_mdc2_1033/runs_1509575000/1509575784\"\n",
    "files = readlines(`find $filesDir -name 'gm2*.30?*'`)  # Pick a subset of the files\n",
    "println(\"There are $(length(files)) files\")"
   ]
  },
  {
   "cell_type": "markdown",
   "metadata": {},
   "source": [
    "Let's look at one of the files to see what data products are in it. We can use the `product_sizes_dumper` command from _art_. "
   ]
  },
  {
   "cell_type": "code",
   "execution_count": 3,
   "metadata": {
    "ExecuteTime": {
     "end_time": "2017-11-30T12:29:22.969000-06:00",
     "start_time": "2017-11-30T18:28:32.813Z"
    }
   },
   "outputs": [
    {
     "data": {
      "text/plain": [
       "\"/pnfs/GM2/mc/commission_mdc2_1033/runs_1509575000/1509575784/gm2ringsim_muon_beamgun_truth_1509575784.302.root\""
      ]
     },
     "execution_count": 3,
     "metadata": {},
     "output_type": "execute_result"
    }
   ],
   "source": [
    "files[1]"
   ]
  },
  {
   "cell_type": "code",
   "execution_count": 4,
   "metadata": {
    "ExecuteTime": {
     "end_time": "2017-11-30T12:29:27.732000-06:00",
     "start_time": "2017-11-30T18:28:32.815Z"
    }
   },
   "outputs": [
    {
     "name": "stdout",
     "output_type": "stream",
     "text": [
      "         723258918      0.661 gm2truth::TrajectoryArtRecords_artg4__mdc2.\n",
      "         244324304      0.223 gm2truth::TrackingActionArtRecords_artg4__mdc2.\n",
      "          63004078      0.058 gm2truth::RingArtRecords_artg4_Ring_mdc2.\n",
      "          37009378      0.034 gm2truth::LookupArtRecords_artg4_calorimeter_mdc2.\n",
      "           7901880      0.007 gm2truth::RingTrackingPlaneArtRecords_artg4_RingTrackingPlanes_mdc2.\n",
      "           6670241      0.006 gm2truth::GhostDetectorArtRecords_artg4_trackerdummyplane_mdc2.\n",
      "           3557883      0.003 gm2truth::GhostFiberHarpArtRecords_artg4_ghostFiberHarp_mdc2.\n",
      "           2155258      0.002 gm2truth::IBMSTruthArtRecords_artg4_ibms_mdc2.\n",
      "           1792840      0.002 art::RNGsnapshots_randomsaver__mdc2.\n",
      "           1110349      0.001 gm2truth::XtalArtRecords_artg4_calorimeter_mdc2.\n",
      "           1077636      0.001 gm2truth::T0ArtRecords_artg4_t0_mdc2.\n",
      "            772505      0.001 gm2truth::IBMSFiberArtRecords_artg4_ibms_mdc2.\n",
      "            524512      0.000 gm2truth::PhaseSpaceArtRecord_artg4__mdc2.\n",
      "            516252      0.000 gm2truth::CaloArtRecords_artg4_calorimeter_mdc2.\n",
      "            326162      0.000 gm2truth::StrawArtRecords_artg4_straws_mdc2.\n",
      "             27914      0.000 gm2truth::FiberHarpArtRecords_artg4_fiberHarp_mdc2.\n",
      "             15013      0.000 art::TriggerResults_TriggerResults__mdc2.\n",
      "             13793      0.000 gm2truth::XtalPhotonArtRecords_artg4_calorimeter_mdc2.\n"
     ]
    }
   ],
   "source": [
    ";product_sizes_dumper $(files[1]) \\| grep ::"
   ]
  },
  {
   "cell_type": "markdown",
   "metadata": {},
   "source": [
    "Looks like we want the `RingTrackingPlaneArtRecords` with module label of `artg4` and instance label of `RingTrackingPlanes`. Here are details:\n",
    "\n",
    "* Data product definition at [RingTrackingPlanesArtRecord.hh](https://redmine.fnal.gov/redmine/projects/gm2dataproducts/repository/revisions/v7_06_05/entry/mc/ring/RingTrackingPlaneArtRecord.hh) ... note it refers to [BasicArtRecord.hh](https://redmine.fnal.gov/redmine/projects/gm2dataproducts/repository/revisions/v7_06_05/entry/mc/basic/BasicArtRecord.hh)\n",
    "* It gets made with [RingTrackingPlanes_service.hh](https://redmine.fnal.gov/redmine/projects/gm2ringsim/repository/revisions/v7_06_05/entry/ring/RingTrackingPlanes_service.hh) and [RingTrackingPlanes_service.cc](https://redmine.fnal.gov/redmine/projects/gm2ringsim/repository/revisions/v7_06_05/entry/ring/RingTrackingPlanes_service.cc)\n",
    "\n",
    "We can look at the FHICL parameters with (note the `grep -A ...` means to show more lines after the match)"
   ]
  },
  {
   "cell_type": "code",
   "execution_count": 5,
   "metadata": {
    "ExecuteTime": {
     "end_time": "2017-11-30T12:29:31.675000-06:00",
     "start_time": "2017-11-30T18:28:32.818Z"
    }
   },
   "outputs": [
    {
     "name": "stdout",
     "output_type": "stream",
     "text": [
      "RingTrackingPlanes: {\n",
      "   nplanes: 4\n",
      "   phi0: -1\n",
      "   verbosity: 0\n",
      "}\n"
     ]
    }
   ],
   "source": [
    ";config_dumper --services $(files[1]) \\| grep  -A 4 RingTrackingPlanes"
   ]
  },
  {
   "cell_type": "markdown",
   "metadata": {},
   "source": [
    "Relevant parts of the construction code are ...\n",
    "\n",
    "```cxx\n",
    "phi0_{pset.get<double>(\"phi0\", 0) * deg},\n",
    "```\n",
    "\n",
    "and\n",
    "\n",
    "```cxx\n",
    "for (int nplane=0; nplane!=nplanes_; ++nplane)\n",
    "{\n",
    "   // ...\n",
    "   // Calculate downstream angle from 12 o'clock\n",
    "   // in global gm2ringsim coordinates\n",
    "   double angle = phi0_ + CLHEP::twopi * nplane / nplanes_;\n",
    "   auto rot = new G4RotationMatrix();\n",
    "   rot->rotateZ(angle);\n",
    "   // ...\n",
    " ```\n",
    " \n",
    " Not sure why we start at -1 degree. \n",
    " \n",
    " Also, note that \n",
    " ```cxx\n",
    " typedef std::vector<RingTrackingPlaneArtRecord> RingTrackingPlaneArtRecordCollection;\n",
    " ```"
   ]
  },
  {
   "cell_type": "markdown",
   "metadata": {},
   "source": [
    "## Setup Heist & Gallery"
   ]
  },
  {
   "cell_type": "code",
   "execution_count": 6,
   "metadata": {
    "ExecuteTime": {
     "end_time": "2017-11-30T12:29:32.874000-06:00",
     "start_time": "2017-11-30T18:28:32.820Z"
    }
   },
   "outputs": [],
   "source": [
    "mdc2_1033 = HeistFiles(files) ; # The trailing semi-colon prevents a long printoutd"
   ]
  },
  {
   "cell_type": "markdown",
   "metadata": {
    "ExecuteTime": {
     "end_time": "2017-11-30T11:05:01.997000-06:00",
     "start_time": "2017-11-30T17:05:01.265Z"
    }
   },
   "source": [
    "Define the data we want to extract"
   ]
  },
  {
   "cell_type": "code",
   "execution_count": 7,
   "metadata": {
    "ExecuteTime": {
     "end_time": "2017-11-30T12:29:40.971000-06:00",
     "start_time": "2017-11-30T18:28:32.821Z"
    }
   },
   "outputs": [
    {
     "data": {
      "text/plain": [
       "Heist.HeistRecordSpec(\"gm2truth::RingTrackingPlaneArtRecordCollection\", (class art::InputTag) {\n",
       "}\n",
       ")"
      ]
     },
     "execution_count": 7,
     "metadata": {},
     "output_type": "execute_result"
    }
   ],
   "source": [
    "rtpRecordSpec = HeistRecordSpec(\n",
    "                    namespace     = \"gm2truth\",\n",
    "                    productType   = \"RingTrackingPlaneArtRecordCollection\",\n",
    "                    header        = \"gm2dataproducts/mc/ring/RingTrackingPlaneArtRecord.hh\",\n",
    "                    moduleLabel   = \"artg4\", instanceLabel = \"RingTrackingPlanes\")"
   ]
  },
  {
   "cell_type": "markdown",
   "metadata": {},
   "source": [
    "## Practice on one event\n",
    "Let's play with one event to see how things look. We need to find an event with a few RingTrackingPlane Hits"
   ]
  },
  {
   "cell_type": "code",
   "execution_count": 8,
   "metadata": {
    "ExecuteTime": {
     "end_time": "2017-11-30T12:29:43.333000-06:00",
     "start_time": "2017-11-30T18:28:32.823Z"
    }
   },
   "outputs": [
    {
     "name": "stdout",
     "output_type": "stream",
     "text": [
      "Successfully opened file /pnfs/GM2/mc/commission_mdc2_1033/runs_1509575000/1509575784/gm2ringsim_muon_beamgun_truth_1509575784.302.root\n"
     ]
    },
    {
     "data": {
      "text/plain": [
       "Heist.HeistEvent((class gallery::Event) {\n",
       "}\n",
       ", 1)"
      ]
     },
     "execution_count": 8,
     "metadata": {},
     "output_type": "execute_result"
    }
   ],
   "source": [
    "he = HeistEvent(mdc2_1033)"
   ]
  },
  {
   "cell_type": "code",
   "execution_count": 9,
   "metadata": {
    "ExecuteTime": {
     "end_time": "2017-11-30T12:29:44.006000-06:00",
     "start_time": "2017-11-30T18:28:32.825Z"
    }
   },
   "outputs": [
    {
     "data": {
      "text/plain": [
       "Heist.HeistEvent((class gallery::Event) {\n",
       "}\n",
       ", 2)"
      ]
     },
     "execution_count": 9,
     "metadata": {},
     "output_type": "execute_result"
    }
   ],
   "source": [
    "nextEvent(he)"
   ]
  },
  {
   "cell_type": "code",
   "execution_count": 10,
   "metadata": {
    "ExecuteTime": {
     "end_time": "2017-11-30T12:29:45.467000-06:00",
     "start_time": "2017-11-30T18:28:32.827Z"
    }
   },
   "outputs": [
    {
     "data": {
      "text/plain": [
       "(class gallery::ValidHandle<class std::vector<struct gm2truth::RingTrackingPlaneArtRecord, class std::allocator<struct gm2truth::RingTrackingPlaneArtRecord> > >) {\n",
       "}\n"
      ]
     },
     "execution_count": 10,
     "metadata": {},
     "output_type": "execute_result"
    }
   ],
   "source": [
    "rtp = getRecord(he, rtpRecordSpec)"
   ]
  },
  {
   "cell_type": "code",
   "execution_count": 11,
   "metadata": {
    "ExecuteTime": {
     "end_time": "2017-11-30T12:29:45.730000-06:00",
     "start_time": "2017-11-30T18:28:32.829Z"
    }
   },
   "outputs": [
    {
     "data": {
      "text/plain": [
       "0x0000000000000001"
      ]
     },
     "execution_count": 11,
     "metadata": {},
     "output_type": "execute_result"
    }
   ],
   "source": [
    "icxx\"$rtp->size();\""
   ]
  },
  {
   "cell_type": "markdown",
   "metadata": {},
   "source": [
    "There's only one tracking plane hit"
   ]
  },
  {
   "cell_type": "code",
   "execution_count": 12,
   "metadata": {
    "ExecuteTime": {
     "end_time": "2017-11-30T12:29:45.732000-06:00",
     "start_time": "2017-11-30T18:28:32.830Z"
    }
   },
   "outputs": [
    {
     "data": {
      "text/plain": [
       "(class gallery::ValidHandle<class std::vector<struct gm2truth::RingTrackingPlaneArtRecord, class std::allocator<struct gm2truth::RingTrackingPlaneArtRecord> > >) {\n",
       "}\n"
      ]
     },
     "execution_count": 12,
     "metadata": {},
     "output_type": "execute_result"
    }
   ],
   "source": [
    "rtp"
   ]
  },
  {
   "cell_type": "code",
   "execution_count": 14,
   "metadata": {
    "ExecuteTime": {
     "end_time": "2017-11-30T12:29:52.079000-06:00",
     "start_time": "2017-11-30T18:29:52.046Z"
    }
   },
   "outputs": [
    {
     "data": {
      "text/plain": [
       "(class std::vector<struct gm2truth::RingTrackingPlaneArtRecord, class std::allocator<struct gm2truth::RingTrackingPlaneArtRecord> > &) {\n",
       "}\n"
      ]
     },
     "execution_count": 14,
     "metadata": {},
     "output_type": "execute_result"
    }
   ],
   "source": [
    "rtpv = icxx\"\"\"(*$rtp);\"\"\""
   ]
  },
  {
   "cell_type": "code",
   "execution_count": 15,
   "metadata": {
    "ExecuteTime": {
     "end_time": "2017-11-30T12:29:53.069000-06:00",
     "start_time": "2017-11-30T18:29:52.698Z"
    }
   },
   "outputs": [
    {
     "data": {
      "text/plain": [
       "0x0000000000000001"
      ]
     },
     "execution_count": 15,
     "metadata": {},
     "output_type": "execute_result"
    }
   ],
   "source": [
    "@cxx rtpv->size()"
   ]
  },
  {
   "cell_type": "code",
   "execution_count": 20,
   "metadata": {
    "ExecuteTime": {
     "end_time": "2017-11-30T12:31:56.490000-06:00",
     "start_time": "2017-11-30T18:31:56.439Z"
    }
   },
   "outputs": [
    {
     "name": "stderr",
     "output_type": "stream",
     "text": [
      "\u001b[1m:3:35: \u001b[0m\u001b[0;1;31merror: \u001b[0m\u001b[1mexpected unqualified-id\u001b[0m\n",
      "            auto &r = __juliavar1.;\n",
      "\u001b[0;1;32m                                  ^\n",
      "\u001b[0m"
     ]
    },
    {
     "ename": "ErrorException",
     "evalue": "\u001b[91mTried to Emit Invalid Decl\u001b[39m",
     "output_type": "error",
     "traceback": [
      "\u001b[91mTried to Emit Invalid Decl\u001b[39m",
      "",
      "Stacktrace:",
      " [1] \u001b[1mEmitTopLevelDecl\u001b[22m\u001b[22m\u001b[1m(\u001b[22m\u001b[22m::Cxx.ClangCompiler, ::Cxx.CppPtr{Cxx.CxxQualType{Cxx.CppBaseType{Symbol(\"clang::Decl\")},(false, false, false)},(false, false, false)}\u001b[1m)\u001b[22m\u001b[22m at \u001b[1m/gm2/app/users/lyon/julia/pkgs/v0.6/Cxx/src/cxxstr.jl:252\u001b[22m\u001b[22m",
      " [2] \u001b[1mcxxstr_impl(...)\u001b[22m\u001b[22m at \u001b[1m/gm2/app/users/lyon/julia/pkgs/v0.6/Cxx/src/cxxstr.jl:700\u001b[22m\u001b[22m",
      " [3] \u001b[1mshow\u001b[22m\u001b[22m\u001b[1m(\u001b[22m\u001b[22m::IOContext{Base.AbstractIOBuffer{Array{UInt8,1}}}, ::Cxx.CppRef{Cxx.CppTemplate{Cxx.CppBaseType{Symbol(\"std::__cxx11::basic_string\")},Tuple{UInt8,Cxx.CxxQualType{Cxx.CppTemplate{Cxx.CppBaseType{Symbol(\"std::char_traits\")},Tuple{UInt8}},(false, false, false)},Cxx.CxxQualType{Cxx.CppTemplate{Cxx.CppBaseType{Symbol(\"std::allocator\")},Tuple{UInt8}},(false, false, false)}}},(false, false, false)}\u001b[1m)\u001b[22m\u001b[22m at \u001b[1m/gm2/app/users/lyon/julia/pkgs/v0.6/Cxx/src/show.jl:9\u001b[22m\u001b[22m (repeats 3 times)",
      " [4] \u001b[1mlimitstringmime\u001b[22m\u001b[22m\u001b[1m(\u001b[22m\u001b[22m::MIME{Symbol(\"text/plain\")}, ::Cxx.CppRef{Cxx.CppBaseType{Symbol(\"gm2truth::RingTrackingPlaneArtRecord\")},(false, false, false)}\u001b[1m)\u001b[22m\u001b[22m at \u001b[1m/gm2/app/users/lyon/julia/pkgs/v0.6/IJulia/src/inline.jl:24\u001b[22m\u001b[22m",
      " [5] \u001b[1mdisplay_dict\u001b[22m\u001b[22m\u001b[1m(\u001b[22m\u001b[22m::Cxx.CppRef{Cxx.CppBaseType{Symbol(\"gm2truth::RingTrackingPlaneArtRecord\")},(false, false, false)}\u001b[1m)\u001b[22m\u001b[22m at \u001b[1m/gm2/app/users/lyon/julia/pkgs/v0.6/IJulia/src/execute_request.jl:27\u001b[22m\u001b[22m",
      " [6] \u001b[1mexecute_request\u001b[22m\u001b[22m\u001b[1m(\u001b[22m\u001b[22m::ZMQ.Socket, ::IJulia.Msg\u001b[1m)\u001b[22m\u001b[22m at \u001b[1m/gm2/app/users/lyon/julia/pkgs/v0.6/IJulia/src/execute_request.jl:182\u001b[22m\u001b[22m",
      " [7] \u001b[1meventloop\u001b[22m\u001b[22m\u001b[1m(\u001b[22m\u001b[22m::ZMQ.Socket\u001b[1m)\u001b[22m\u001b[22m at \u001b[1m/gm2/app/users/lyon/julia/pkgs/v0.6/IJulia/src/eventloop.jl:8\u001b[22m\u001b[22m",
      " [8] \u001b[1m(::IJulia.##14#17)\u001b[22m\u001b[22m\u001b[1m(\u001b[22m\u001b[22m\u001b[1m)\u001b[22m\u001b[22m at \u001b[1m./task.jl:335\u001b[22m\u001b[22m"
     ]
    }
   ],
   "source": [
    "icxx\"\"\"$rtpv[0];\"\"\""
   ]
  },
  {
   "cell_type": "code",
   "execution_count": 30,
   "metadata": {
    "ExecuteTime": {
     "end_time": "2017-11-30T12:38:32.412000-06:00",
     "start_time": "2017-11-30T18:38:32.354Z"
    }
   },
   "outputs": [
    {
     "name": "stderr",
     "output_type": "stream",
     "text": [
      "\u001b[1m:3:35: \u001b[0m\u001b[0;1;31merror: \u001b[0m\u001b[1mexpected unqualified-id\u001b[0m\n",
      "            auto &r = __juliavar1.;\n",
      "\u001b[0;1;32m                                  ^\n",
      "\u001b[0m"
     ]
    },
    {
     "ename": "ErrorException",
     "evalue": "\u001b[91mTried to Emit Invalid Decl\u001b[39m",
     "output_type": "error",
     "traceback": [
      "\u001b[91mTried to Emit Invalid Decl\u001b[39m",
      "",
      "Stacktrace:",
      " [1] \u001b[1mEmitTopLevelDecl\u001b[22m\u001b[22m\u001b[1m(\u001b[22m\u001b[22m::Cxx.ClangCompiler, ::Cxx.CppPtr{Cxx.CxxQualType{Cxx.CppBaseType{Symbol(\"clang::Decl\")},(false, false, false)},(false, false, false)}\u001b[1m)\u001b[22m\u001b[22m at \u001b[1m/gm2/app/users/lyon/julia/pkgs/v0.6/Cxx/src/cxxstr.jl:252\u001b[22m\u001b[22m",
      " [2] \u001b[1mcxxstr_impl(...)\u001b[22m\u001b[22m at \u001b[1m/gm2/app/users/lyon/julia/pkgs/v0.6/Cxx/src/cxxstr.jl:700\u001b[22m\u001b[22m",
      " [3] \u001b[1mshow\u001b[22m\u001b[22m\u001b[1m(\u001b[22m\u001b[22m::IOContext{Base.AbstractIOBuffer{Array{UInt8,1}}}, ::Cxx.CppValue{Cxx.CxxQualType{Cxx.CppTemplate{Cxx.CppBaseType{Symbol(\"std::__cxx11::basic_string\")},Tuple{UInt8,Cxx.CxxQualType{Cxx.CppTemplate{Cxx.CppBaseType{Symbol(\"std::char_traits\")},Tuple{UInt8}},(false, false, false)},Cxx.CxxQualType{Cxx.CppTemplate{Cxx.CppBaseType{Symbol(\"std::allocator\")},Tuple{UInt8}},(false, false, false)}}},(false, false, false)},32}\u001b[1m)\u001b[22m\u001b[22m at \u001b[1m/gm2/app/users/lyon/julia/pkgs/v0.6/Cxx/src/show.jl:9\u001b[22m\u001b[22m",
      " [4] \u001b[1mlimitstringmime\u001b[22m\u001b[22m\u001b[1m(\u001b[22m\u001b[22m::MIME{Symbol(\"text/plain\")}, ::Cxx.CppValue{Cxx.CxxQualType{Cxx.CppTemplate{Cxx.CppBaseType{Symbol(\"std::__cxx11::basic_string\")},Tuple{UInt8,Cxx.CxxQualType{Cxx.CppTemplate{Cxx.CppBaseType{Symbol(\"std::char_traits\")},Tuple{UInt8}},(false, false, false)},Cxx.CxxQualType{Cxx.CppTemplate{Cxx.CppBaseType{Symbol(\"std::allocator\")},Tuple{UInt8}},(false, false, false)}}},(false, false, false)},32}\u001b[1m)\u001b[22m\u001b[22m at \u001b[1m/gm2/app/users/lyon/julia/pkgs/v0.6/IJulia/src/inline.jl:24\u001b[22m\u001b[22m",
      " [5] \u001b[1mdisplay_dict\u001b[22m\u001b[22m\u001b[1m(\u001b[22m\u001b[22m::Cxx.CppValue{Cxx.CxxQualType{Cxx.CppTemplate{Cxx.CppBaseType{Symbol(\"std::__cxx11::basic_string\")},Tuple{UInt8,Cxx.CxxQualType{Cxx.CppTemplate{Cxx.CppBaseType{Symbol(\"std::char_traits\")},Tuple{UInt8}},(false, false, false)},Cxx.CxxQualType{Cxx.CppTemplate{Cxx.CppBaseType{Symbol(\"std::allocator\")},Tuple{UInt8}},(false, false, false)}}},(false, false, false)},32}\u001b[1m)\u001b[22m\u001b[22m at \u001b[1m/gm2/app/users/lyon/julia/pkgs/v0.6/IJulia/src/execute_request.jl:27\u001b[22m\u001b[22m",
      " [6] \u001b[1mexecute_request\u001b[22m\u001b[22m\u001b[1m(\u001b[22m\u001b[22m::ZMQ.Socket, ::IJulia.Msg\u001b[1m)\u001b[22m\u001b[22m at \u001b[1m/gm2/app/users/lyon/julia/pkgs/v0.6/IJulia/src/execute_request.jl:182\u001b[22m\u001b[22m",
      " [7] \u001b[1meventloop\u001b[22m\u001b[22m\u001b[1m(\u001b[22m\u001b[22m::ZMQ.Socket\u001b[1m)\u001b[22m\u001b[22m at \u001b[1m/gm2/app/users/lyon/julia/pkgs/v0.6/IJulia/src/eventloop.jl:8\u001b[22m\u001b[22m",
      " [8] \u001b[1m(::IJulia.##14#17)\u001b[22m\u001b[22m\u001b[1m(\u001b[22m\u001b[22m\u001b[1m)\u001b[22m\u001b[22m at \u001b[1m./task.jl:335\u001b[22m\u001b[22m"
     ]
    }
   ],
   "source": [
    "icxx\"\"\"return $(rtpRecordSpec.artInputTag).encode();\"\"\""
   ]
  },
  {
   "cell_type": "code",
   "execution_count": 24,
   "metadata": {
    "ExecuteTime": {
     "end_time": "2017-11-30T12:34:46.332000-06:00",
     "start_time": "2017-11-30T18:34:46.248Z"
    }
   },
   "outputs": [
    {
     "ename": "LoadError",
     "evalue": "\u001b[91mUnrecognized C++ Exception (N3cet15coded_exceptionIN3art6errors10ErrorCodesEXadL_ZNS1_15ExceptionDetail9translateB5cxx11ES3_EEEE)\u001b[39m",
     "output_type": "error",
     "traceback": [
      "\u001b[91mUnrecognized C++ Exception (N3cet15coded_exceptionIN3art6errors10ErrorCodesEXadL_ZNS1_15ExceptionDetail9translateB5cxx11ES3_EEEE)\u001b[39m",
      "",
      "Stacktrace:",
      " [1] \u001b[1mprocess_cxx_exception\u001b[22m\u001b[22m\u001b[1m(\u001b[22m\u001b[22m::UInt64, ::Ptr{Void}\u001b[1m)\u001b[22m\u001b[22m at \u001b[1m/gm2/app/users/lyon/julia/pkgs/v0.6/Cxx/src/exceptions.jl:85\u001b[22m\u001b[22m",
      " [2] \u001b[1mcxxstr_impl\u001b[22m\u001b[22m\u001b[1m(\u001b[22m\u001b[22m::Cxx.CxxInstance{1}, ::Cxx.SourceBuf{115}, ::Cxx.CppValue{Cxx.CxxQualType{Cxx.CppBaseType{Symbol(\"gallery::Event\")},(false, false, false)},40}, ::Cxx.CppValue{Cxx.CxxQualType{Cxx.CppBaseType{Symbol(\"art::InputTag\")},(false, false, false)},96}\u001b[1m)\u001b[22m\u001b[22m at \u001b[1m/gm2/app/users/lyon/julia/pkgs/v0.6/Cxx/src/cxxstr.jl:695\u001b[22m\u001b[22m",
      " [3] \u001b[1minclude_string\u001b[22m\u001b[22m\u001b[1m(\u001b[22m\u001b[22m::String, ::String\u001b[1m)\u001b[22m\u001b[22m at \u001b[1m./loading.jl:522\u001b[22m\u001b[22m"
     ]
    }
   ],
   "source": [
    "icxx\"\"\"return $(he.galleryEvent).getValidHandle<gm2truth::RingTrackingPlaneArtRecord>($(rtpRecordSpec.artInputTag));\"\"\""
   ]
  },
  {
   "cell_type": "code",
   "execution_count": 40,
   "metadata": {
    "ExecuteTime": {
     "end_time": "2017-11-30T11:11:27.963000-06:00",
     "start_time": "2017-11-30T17:11:27.895Z"
    }
   },
   "outputs": [
    {
     "data": {
      "text/plain": [
       "findEventWithManyRTPHits (generic function with 1 method)"
      ]
     },
     "execution_count": 40,
     "metadata": {},
     "output_type": "execute_result"
    }
   ],
   "source": [
    "function findEventWithManyRTPHits(heistFiles, maxEvents)\n",
    "    p = Progress(maxEvents)\n",
    "    local rtpHits\n",
    "    for anEvent in HeistEvents(heistFiles, maxEvents)\n",
    "        rtpHits = getRecord(anEvent, rtpRecordSpec)\n",
    "        if icxx\"$rtpHits->size()\" > 0\n",
    "            break\n",
    "        end\n",
    "    end\n",
    "    \n",
    "    return rtpHits\n",
    "end\n",
    "\n",
    "findEventWithManyRTPHits(heistFilesPnfs, 200)"
   ]
  },
  {
   "cell_type": "code",
   "execution_count": null,
   "metadata": {
    "ExecuteTime": {
     "start_time": "2017-11-30T18:40:29.051Z"
    }
   },
   "outputs": [],
   "source": [
    "it = \"artg4:RingTrackingPlanes\"\n",
    "icxx\"\"\"art::InputTag it(\"artg4:); return it;\"\"\""
   ]
  },
  {
   "cell_type": "code",
   "execution_count": 1,
   "metadata": {
    "ExecuteTime": {
     "end_time": "2017-11-30T13:10:18.564000-06:00",
     "start_time": "2017-11-30T19:09:41.787Z"
    }
   },
   "outputs": [
    {
     "name": "stderr",
     "output_type": "stream",
     "text": [
      "\u001b[1m\u001b[36mINFO: \u001b[39m\u001b[22m\u001b[36mPrecompiling module PyCall.\n",
      "\u001b[39m"
     ]
    }
   ],
   "source": [
    "using PyCall"
   ]
  },
  {
   "cell_type": "code",
   "execution_count": 2,
   "metadata": {
    "ExecuteTime": {
     "end_time": "2017-11-30T13:10:43.793000-06:00",
     "start_time": "2017-11-30T19:10:39.634Z"
    }
   },
   "outputs": [
    {
     "name": "stdout",
     "output_type": "stream",
     "text": [
      "\u001b[?1034h"
     ]
    }
   ],
   "source": [
    "@pyimport ROOT"
   ]
  },
  {
   "cell_type": "code",
   "execution_count": 8,
   "metadata": {
    "ExecuteTime": {
     "end_time": "2017-11-30T13:13:16.482000-06:00",
     "start_time": "2017-11-30T19:13:16.472Z"
    }
   },
   "outputs": [
    {
     "data": {
      "text/plain": [
       "read_header (generic function with 1 method)"
      ]
     },
     "execution_count": 8,
     "metadata": {},
     "output_type": "execute_result"
    }
   ],
   "source": [
    "function read_header(h)\n",
    "    ROOT.gROOT[:ProcessLine](\"\"\"#include \"$h\" \"\"\")\n",
    "end"
   ]
  },
  {
   "cell_type": "code",
   "execution_count": 9,
   "metadata": {
    "ExecuteTime": {
     "end_time": "2017-11-30T13:13:18.118000-06:00",
     "start_time": "2017-11-30T19:13:17.697Z"
    }
   },
   "outputs": [
    {
     "data": {
      "text/plain": [
       "0"
      ]
     },
     "execution_count": 9,
     "metadata": {},
     "output_type": "execute_result"
    }
   ],
   "source": [
    "read_header(\"gallery/ValidHandle.h\")"
   ]
  },
  {
   "cell_type": "code",
   "execution_count": 11,
   "metadata": {
    "ExecuteTime": {
     "end_time": "2017-11-30T13:16:22.156000-06:00",
     "start_time": "2017-11-30T19:16:22.134Z"
    }
   },
   "outputs": [
    {
     "data": {
      "text/plain": [
       "provide_get_valid_handle (generic function with 1 method)"
      ]
     },
     "execution_count": 11,
     "metadata": {},
     "output_type": "execute_result"
    }
   ],
   "source": [
    "function provide_get_valid_handle(klass)\n",
    "    ROOT.gROOT[:ProcessLine](\"\"\"\n",
    "       template gallery::ValidHandle<$klass> gallery::Event::getValidHandle<$klass>(art::InputTag const&) const;\n",
    "         \"\"\")\n",
    "end"
   ]
  },
  {
   "cell_type": "code",
   "execution_count": 12,
   "metadata": {
    "ExecuteTime": {
     "end_time": "2017-11-30T13:17:18.879000-06:00",
     "start_time": "2017-11-30T19:17:11.532Z"
    }
   },
   "outputs": [
    {
     "data": {
      "text/plain": [
       "0"
      ]
     },
     "execution_count": 12,
     "metadata": {},
     "output_type": "execute_result"
    }
   ],
   "source": [
    "provide_get_valid_handle(\"std::vector<gm2truth::RingTrackingPlaneArtRecord>\")"
   ]
  },
  {
   "cell_type": "code",
   "execution_count": 13,
   "metadata": {
    "ExecuteTime": {
     "end_time": "2017-11-30T13:18:05.458000-06:00",
     "start_time": "2017-11-30T19:18:05.207Z"
    }
   },
   "outputs": [
    {
     "ename": "LoadError",
     "evalue": "\u001b[91mUndefVarError: art not defined\u001b[39m",
     "output_type": "error",
     "traceback": [
      "\u001b[91mUndefVarError: art not defined\u001b[39m",
      "",
      "Stacktrace:",
      " [1] \u001b[1minclude_string\u001b[22m\u001b[22m\u001b[1m(\u001b[22m\u001b[22m::String, ::String\u001b[1m)\u001b[22m\u001b[22m at \u001b[1m./loading.jl:522\u001b[22m\u001b[22m"
     ]
    }
   ],
   "source": [
    "tag = ROOT.art.InputTag(\"artg4:RingTrackingPlanes\")"
   ]
  },
  {
   "cell_type": "code",
   "execution_count": 14,
   "metadata": {
    "ExecuteTime": {
     "end_time": "2017-11-30T13:18:23.507000-06:00",
     "start_time": "2017-11-30T19:18:20.935Z"
    }
   },
   "outputs": [
    {
     "ename": "LoadError",
     "evalue": "\u001b[91mMethodError: no method matching getindex(::Module, ::Symbol)\u001b[39m",
     "output_type": "error",
     "traceback": [
      "\u001b[91mMethodError: no method matching getindex(::Module, ::Symbol)\u001b[39m",
      "",
      "Stacktrace:",
      " [1] \u001b[1minclude_string\u001b[22m\u001b[22m\u001b[1m(\u001b[22m\u001b[22m::String, ::String\u001b[1m)\u001b[22m\u001b[22m at \u001b[1m./loading.jl:522\u001b[22m\u001b[22m"
     ]
    }
   ],
   "source": [
    "ROOT[:art]"
   ]
  },
  {
   "cell_type": "code",
   "execution_count": 15,
   "metadata": {
    "ExecuteTime": {
     "end_time": "2017-11-30T13:18:30.690000-06:00",
     "start_time": "2017-11-30T19:18:30.666Z"
    }
   },
   "outputs": [
    {
     "ename": "LoadError",
     "evalue": "\u001b[91mUndefVarError: art not defined\u001b[39m",
     "output_type": "error",
     "traceback": [
      "\u001b[91mUndefVarError: art not defined\u001b[39m",
      "",
      "Stacktrace:",
      " [1] \u001b[1minclude_string\u001b[22m\u001b[22m\u001b[1m(\u001b[22m\u001b[22m::String, ::String\u001b[1m)\u001b[22m\u001b[22m at \u001b[1m./loading.jl:522\u001b[22m\u001b[22m"
     ]
    }
   ],
   "source": [
    "ROOT.art"
   ]
  },
  {
   "cell_type": "code",
   "execution_count": 17,
   "metadata": {
    "ExecuteTime": {
     "end_time": "2017-11-30T13:19:24.067000-06:00",
     "start_time": "2017-11-30T19:19:24.025Z"
    }
   },
   "outputs": [],
   "source": [
    "@pyimport ROOT.art as art\n",
    "@pyimport ROOT.gallery as gallery\n",
    "@pyimport ROOT.vector as rvector"
   ]
  },
  {
   "cell_type": "code",
   "execution_count": 18,
   "metadata": {
    "ExecuteTime": {
     "end_time": "2017-11-30T13:19:27.790000-06:00",
     "start_time": "2017-11-30T19:19:27.310Z"
    }
   },
   "outputs": [
    {
     "data": {
      "text/plain": [
       "__anon__"
      ]
     },
     "execution_count": 18,
     "metadata": {},
     "output_type": "execute_result"
    }
   ],
   "source": [
    "gallery"
   ]
  },
  {
   "cell_type": "code",
   "execution_count": 19,
   "metadata": {
    "ExecuteTime": {
     "end_time": "2017-11-30T13:19:36.113000-06:00",
     "start_time": "2017-11-30T19:19:36.098Z"
    }
   },
   "outputs": [
    {
     "data": {
      "text/plain": [
       "__anon__"
      ]
     },
     "execution_count": 19,
     "metadata": {},
     "output_type": "execute_result"
    }
   ],
   "source": [
    "art"
   ]
  },
  {
   "cell_type": "code",
   "execution_count": 20,
   "metadata": {
    "ExecuteTime": {
     "end_time": "2017-11-30T13:19:43.454000-06:00",
     "start_time": "2017-11-30T19:19:43.443Z"
    }
   },
   "outputs": [
    {
     "ename": "LoadError",
     "evalue": "\u001b[91mMethodError: no method matching getindex(::Module, ::Symbol)\u001b[39m",
     "output_type": "error",
     "traceback": [
      "\u001b[91mMethodError: no method matching getindex(::Module, ::Symbol)\u001b[39m",
      "",
      "Stacktrace:",
      " [1] \u001b[1minclude_string\u001b[22m\u001b[22m\u001b[1m(\u001b[22m\u001b[22m::String, ::String\u001b[1m)\u001b[22m\u001b[22m at \u001b[1m./loading.jl:522\u001b[22m\u001b[22m"
     ]
    }
   ],
   "source": [
    "art[:InputTag]"
   ]
  },
  {
   "cell_type": "code",
   "execution_count": 21,
   "metadata": {
    "ExecuteTime": {
     "end_time": "2017-11-30T13:20:13.548000-06:00",
     "start_time": "2017-11-30T19:20:13.526Z"
    }
   },
   "outputs": [
    {
     "ename": "LoadError",
     "evalue": "\u001b[91mUndefVarError: InputTag not defined\u001b[39m",
     "output_type": "error",
     "traceback": [
      "\u001b[91mUndefVarError: InputTag not defined\u001b[39m",
      "",
      "Stacktrace:",
      " [1] \u001b[1minclude_string\u001b[22m\u001b[22m\u001b[1m(\u001b[22m\u001b[22m::String, ::String\u001b[1m)\u001b[22m\u001b[22m at \u001b[1m./loading.jl:522\u001b[22m\u001b[22m"
     ]
    }
   ],
   "source": [
    "art.InputTag"
   ]
  },
  {
   "cell_type": "code",
   "execution_count": 22,
   "metadata": {
    "ExecuteTime": {
     "end_time": "2017-11-30T13:22:28.152000-06:00",
     "start_time": "2017-11-30T19:22:28.112Z"
    }
   },
   "outputs": [],
   "source": [
    "@pyimport ROOT"
   ]
  },
  {
   "cell_type": "code",
   "execution_count": 23,
   "metadata": {
    "ExecuteTime": {
     "end_time": "2017-11-30T13:22:30.320000-06:00",
     "start_time": "2017-11-30T19:22:30.305Z"
    }
   },
   "outputs": [
    {
     "ename": "LoadError",
     "evalue": "\u001b[91mUndefVarError: art not defined\u001b[39m",
     "output_type": "error",
     "traceback": [
      "\u001b[91mUndefVarError: art not defined\u001b[39m",
      "",
      "Stacktrace:",
      " [1] \u001b[1minclude_string\u001b[22m\u001b[22m\u001b[1m(\u001b[22m\u001b[22m::String, ::String\u001b[1m)\u001b[22m\u001b[22m at \u001b[1m./loading.jl:522\u001b[22m\u001b[22m"
     ]
    }
   ],
   "source": [
    "ROOT.art"
   ]
  },
  {
   "cell_type": "code",
   "execution_count": 24,
   "metadata": {
    "ExecuteTime": {
     "end_time": "2017-11-30T13:23:40.087000-06:00",
     "start_time": "2017-11-30T19:23:38.415Z"
    }
   },
   "outputs": [
    {
     "ename": "LoadError",
     "evalue": "\u001b[91mPyError (ccall(@pysym(:Py_CompileString), PyPtr, (Cstring, Cstring, Cint), sb, fname, input_type)) <type 'exceptions.SyntaxError'>\nSyntaxError('invalid syntax', ('/gm2/app/users/lyon/julia/pkgs/v0.6/PyCall/src/pyeval.jl', 1, 6, 'import ROOT'))\n\u001b[39m",
     "output_type": "error",
     "traceback": [
      "\u001b[91mPyError (ccall(@pysym(:Py_CompileString), PyPtr, (Cstring, Cstring, Cint), sb, fname, input_type)) <type 'exceptions.SyntaxError'>\nSyntaxError('invalid syntax', ('/gm2/app/users/lyon/julia/pkgs/v0.6/PyCall/src/pyeval.jl', 1, 6, 'import ROOT'))\n\u001b[39m",
      "",
      "Stacktrace:",
      " [1] \u001b[1mpyerr_check\u001b[22m\u001b[22m at \u001b[1m/gm2/app/users/lyon/julia/pkgs/v0.6/PyCall/src/exception.jl:56\u001b[22m\u001b[22m [inlined]",
      " [2] \u001b[1mpyerr_check\u001b[22m\u001b[22m at \u001b[1m/gm2/app/users/lyon/julia/pkgs/v0.6/PyCall/src/exception.jl:61\u001b[22m\u001b[22m [inlined]",
      " [3] \u001b[1mmacro expansion\u001b[22m\u001b[22m at \u001b[1m/gm2/app/users/lyon/julia/pkgs/v0.6/PyCall/src/exception.jl:81\u001b[22m\u001b[22m [inlined]",
      " [4] \u001b[1mpyeval_\u001b[22m\u001b[22m\u001b[1m(\u001b[22m\u001b[22m::String, ::PyCall.PyDict{String,PyCall.PyObject,false}, ::PyCall.PyDict{String,PyCall.PyObject,false}, ::Int64, ::String\u001b[1m)\u001b[22m\u001b[22m at \u001b[1m/gm2/app/users/lyon/julia/pkgs/v0.6/PyCall/src/pyeval.jl:20\u001b[22m\u001b[22m",
      " [5] \u001b[1minclude_string\u001b[22m\u001b[22m\u001b[1m(\u001b[22m\u001b[22m::String, ::String\u001b[1m)\u001b[22m\u001b[22m at \u001b[1m./loading.jl:522\u001b[22m\u001b[22m"
     ]
    }
   ],
   "source": [
    "py\"\"\"import ROOT\"\"\""
   ]
  },
  {
   "cell_type": "code",
   "execution_count": 26,
   "metadata": {
    "ExecuteTime": {
     "end_time": "2017-11-30T13:24:12.616000-06:00",
     "start_time": "2017-11-30T19:24:12.591Z"
    }
   },
   "outputs": [
    {
     "data": {
      "text/plain": [
       "PyObject <module 'ROOT' from '/cvmfs/gm2.opensciencegrid.org/prod8/external/root/v6_08_06g/Linux64bit+2.6-2.12-e14-prof/lib/ROOT.pyc'>"
      ]
     },
     "execution_count": 26,
     "metadata": {},
     "output_type": "execute_result"
    }
   ],
   "source": [
    "r = pyimport(\"ROOT\")"
   ]
  },
  {
   "cell_type": "code",
   "execution_count": 27,
   "metadata": {
    "ExecuteTime": {
     "end_time": "2017-11-30T13:24:23.564000-06:00",
     "start_time": "2017-11-30T19:24:23.549Z"
    }
   },
   "outputs": [
    {
     "data": {
      "text/plain": [
       "PyObject <module 'ROOT' from '/cvmfs/gm2.opensciencegrid.org/prod8/external/root/v6_08_06g/Linux64bit+2.6-2.12-e14-prof/lib/ROOT.pyc'>"
      ]
     },
     "execution_count": 27,
     "metadata": {},
     "output_type": "execute_result"
    }
   ],
   "source": [
    "r"
   ]
  },
  {
   "cell_type": "code",
   "execution_count": 30,
   "metadata": {
    "ExecuteTime": {
     "end_time": "2017-11-30T13:25:25.199000-06:00",
     "start_time": "2017-11-30T19:25:24.896Z"
    }
   },
   "outputs": [
    {
     "data": {
      "text/plain": [
       "PyObject <class 'ROOT.art.InputTag'>"
      ]
     },
     "execution_count": 30,
     "metadata": {},
     "output_type": "execute_result"
    }
   ],
   "source": [
    "r[:art][:InputTag]"
   ]
  },
  {
   "cell_type": "code",
   "execution_count": null,
   "metadata": {},
   "outputs": [],
   "source": []
  }
 ],
 "metadata": {
  "kernelspec": {
   "display_name": "SSH gm2gpvm02.fnal.gov Julia 0.6.1root",
   "language": "julia",
   "name": "rik_ssh_gm2gpvm02_fnal_gov_julia061root"
  },
  "language_info": {
   "file_extension": ".jl",
   "mimetype": "application/julia",
   "name": "julia",
   "version": "0.6.1"
  },
  "toc": {
   "nav_menu": {},
   "number_sections": true,
   "sideBar": true,
   "skip_h1_title": true,
   "toc_cell": false,
   "toc_position": {},
   "toc_section_display": "block",
   "toc_window_display": false
  }
 },
 "nbformat": 4,
 "nbformat_minor": 2
}
