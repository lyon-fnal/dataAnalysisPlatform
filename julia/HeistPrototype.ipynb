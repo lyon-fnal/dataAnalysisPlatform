{
 "cells": [
  {
   "cell_type": "markdown",
   "metadata": {},
   "source": [
    "# Prototyping Heist in Julia"
   ]
  },
  {
   "cell_type": "markdown",
   "metadata": {},
   "source": [
    "James Stapleton has written a nice python wrapper around gallery called Heist. Let's prototype such a system in Julia."
   ]
  },
  {
   "cell_type": "markdown",
   "metadata": {},
   "source": [
    "The basic operation of Heist is as follows:\n",
    "\n",
    "1. Obtain a list of files. Heist has a nice function `heist.grab_art_files` that takes a directory name and a the start of a file name (prefix). It will make a list of all the root files with that prefix in the directory.\n",
    "1. Make a `heist.ArtFile` object from the file list. The hame `ArtFile` is a misnomer and will be changed in future versions. A better name would be gallery or something like that. \n",
    "1. A \"record spec\" is created to specify a record to read. The object that is created is a python dictionary with the key being the \"name\" and the value of `heist.ArtRecordSpec`. The `heist.ArtRecordSpec` object needs the record type, the namespace, the module label, and the instance label. \n",
    "1. The records are added to the `heist.ArtFile` (curiously, one at a time).\n",
    "1. The `artfile` can return an event loop. This is the `evt` object. \n",
    "1. The user does a `for` loop over the `evt` objct. \n",
    "1. Within the loop you can do `artfile.get_record`. You pass in the `record_spec`\n"
   ]
  },
  {
   "cell_type": "code",
   "execution_count": 2,
   "metadata": {
    "ExecuteTime": {
     "end_time": "2017-11-26T03:41:01.551000-06:00",
     "start_time": "2017-11-26T03:41:00.808Z"
    }
   },
   "outputs": [
    {
     "data": {
      "text/html": [
       "<style>.container { width:100% !important; }</style>"
      ],
      "text/plain": [
       "HTML{String}(\"<style>.container { width:100% !important; }</style>\")"
      ]
     },
     "metadata": {},
     "output_type": "display_data"
    }
   ],
   "source": [
    "# Setup IJulia\n",
    "display(HTML(\"<style>.container { width:100% !important; }</style>\"))  # Make full width"
   ]
  },
  {
   "cell_type": "code",
   "execution_count": 3,
   "metadata": {
    "ExecuteTime": {
     "end_time": "2017-11-26T03:41:13.601000-06:00",
     "start_time": "2017-11-26T03:41:03.608Z"
    }
   },
   "outputs": [],
   "source": [
    "using Cxx, ROOT\n",
    "using Lazy: @>"
   ]
  },
  {
   "cell_type": "markdown",
   "metadata": {},
   "source": [
    "Let's deal with the files first. I want to use XrootD to stream. "
   ]
  },
  {
   "cell_type": "code",
   "execution_count": 4,
   "metadata": {
    "ExecuteTime": {
     "end_time": "2017-11-26T03:41:15.726000-06:00",
     "start_time": "2017-11-26T03:41:15.067Z"
    }
   },
   "outputs": [
    {
     "data": {
      "text/plain": [
       "\"gm2pro_mc_beamgun_1033_4000evts\""
      ]
     },
     "execution_count": 4,
     "metadata": {},
     "output_type": "execute_result"
    }
   ],
   "source": [
    "const filesDir = \"/pnfs/GM2/mc/commission_mdc2_1033/runs_1509575000/1509575784\"\n",
    "const samDefinition = \"gm2pro_mc_beamgun_1033_4000evts\""
   ]
  },
  {
   "cell_type": "markdown",
   "metadata": {
    "ExecuteTime": {
     "end_time": "2017-11-25T07:49:17.627000-06:00",
     "start_time": "2017-11-25T07:49:17.541Z"
    }
   },
   "source": [
    "Let's just pick some of the files"
   ]
  },
  {
   "cell_type": "code",
   "execution_count": 5,
   "metadata": {
    "ExecuteTime": {
     "end_time": "2017-11-26T03:41:20.436000-06:00",
     "start_time": "2017-11-26T03:41:15.908Z"
    }
   },
   "outputs": [
    {
     "data": {
      "text/plain": [
       "11-element Array{String,1}:\n",
       " \"/pnfs/GM2/mc/commission_mdc2_1033/runs_1509575000/1509575784/gm2ringsim_muon_beamgun_truth_1509575784.300.root\"\n",
       " \"/pnfs/GM2/mc/commission_mdc2_1033/runs_1509575000/1509575784/gm2ringsim_muon_beamgun_truth_1509575784.301.root\"\n",
       " \"/pnfs/GM2/mc/commission_mdc2_1033/runs_1509575000/1509575784/gm2ringsim_muon_beamgun_truth_1509575784.302.root\"\n",
       " \"/pnfs/GM2/mc/commission_mdc2_1033/runs_1509575000/1509575784/gm2ringsim_muon_beamgun_truth_1509575784.303.root\"\n",
       " \"/pnfs/GM2/mc/commission_mdc2_1033/runs_1509575000/1509575784/gm2ringsim_muon_beamgun_truth_1509575784.304.root\"\n",
       " \"/pnfs/GM2/mc/commission_mdc2_1033/runs_1509575000/1509575784/gm2ringsim_muon_beamgun_truth_1509575784.305.root\"\n",
       " \"/pnfs/GM2/mc/commission_mdc2_1033/runs_1509575000/1509575784/gm2ringsim_muon_beamgun_truth_1509575784.306.root\"\n",
       " \"/pnfs/GM2/mc/commission_mdc2_1033/runs_1509575000/1509575784/gm2ringsim_muon_beamgun_truth_1509575784.307.root\"\n",
       " \"/pnfs/GM2/mc/commission_mdc2_1033/runs_1509575000/1509575784/gm2ringsim_muon_beamgun_truth_1509575784.308.root\"\n",
       " \"/pnfs/GM2/mc/commission_mdc2_1033/runs_1509575000/1509575784/gm2ringsim_muon_beamgun_truth_1509575784.309.root\"\n",
       " \"/pnfs/GM2/mc/commission_mdc2_1033/runs_1509575000/1509575784/gm2ringsim_muon_beamgun_truth_1509575784.30.root\" "
      ]
     },
     "execution_count": 5,
     "metadata": {},
     "output_type": "execute_result"
    }
   ],
   "source": [
    "files = readlines(`find $filesDir -name 'gm2*.30?*'`)"
   ]
  },
  {
   "cell_type": "markdown",
   "metadata": {},
   "source": [
    "We need to set up some C++ stuff"
   ]
  },
  {
   "cell_type": "code",
   "execution_count": 6,
   "metadata": {
    "ExecuteTime": {
     "end_time": "2017-11-26T03:41:20.441000-06:00",
     "start_time": "2017-11-26T03:41:16.259Z"
    }
   },
   "outputs": [],
   "source": [
    "addHeaderDir(ENV[\"GALLERY_INC\"], kind=C_System)\n",
    "addHeaderDir(ENV[\"CANVAS_INC\"], kind=C_System)\n",
    "addHeaderDir(ENV[\"BOOST_INC\"], kind=C_System)\n",
    "addHeaderDir(ENV[\"CETLIB_INC\"], kind=C_System)\n",
    "addHeaderDir(ENV[\"CETLIB_EXCEPT_INC\"], kind=C_System)\n",
    "addHeaderDir(ENV[\"FHICLCPP_INC\"], kind=C_System)\n",
    "addHeaderDir(ENV[\"GM2RINGSIM_INC\"], kind=C_System)\n",
    "addHeaderDir(ENV[\"GM2DATAPRODUCTS_INC\"], kind=C_System)\n",
    "# Note that if you do `kind=C_User`, the #includes will hang"
   ]
  },
  {
   "cell_type": "code",
   "execution_count": 7,
   "metadata": {
    "ExecuteTime": {
     "end_time": "2017-11-26T03:41:20.612000-06:00",
     "start_time": "2017-11-26T03:41:16.440Z"
    }
   },
   "outputs": [
    {
     "data": {
      "text/plain": [
       "Ptr{Void} @0x000000000b3f75e0"
      ]
     },
     "execution_count": 7,
     "metadata": {},
     "output_type": "execute_result"
    }
   ],
   "source": [
    "Libdl.dlopen(\"libgallery\", Libdl.RTLD_GLOBAL)\n",
    "Libdl.dlopen(\"libcanvas\", Libdl.RTLD_GLOBAL)"
   ]
  },
  {
   "cell_type": "code",
   "execution_count": 8,
   "metadata": {
    "ExecuteTime": {
     "end_time": "2017-11-26T03:41:22.129000-06:00",
     "start_time": "2017-11-26T03:41:16.587Z"
    }
   },
   "outputs": [
    {
     "data": {
      "text/plain": [
       "true"
      ]
     },
     "execution_count": 8,
     "metadata": {},
     "output_type": "execute_result"
    }
   ],
   "source": [
    "cxx\"\"\"\n",
    "   #include \"canvas/Utilities/InputTag.h\"\n",
    "   #include \"gallery/Event.h\"\n",
    "\n",
    "   #include <vector>\n",
    "\"\"\""
   ]
  },
  {
   "cell_type": "markdown",
   "metadata": {},
   "source": [
    "Make a list of files for Heist"
   ]
  },
  {
   "cell_type": "code",
   "execution_count": 9,
   "metadata": {
    "ExecuteTime": {
     "end_time": "2017-11-26T03:41:22.132000-06:00",
     "start_time": "2017-11-26T03:41:17.789Z"
    }
   },
   "outputs": [],
   "source": [
    "struct HeistFiles\n",
    "    files::Array{String,1}\n",
    "    theVector::Cxx.CppValue\n",
    "end"
   ]
  },
  {
   "cell_type": "code",
   "execution_count": 10,
   "metadata": {
    "ExecuteTime": {
     "end_time": "2017-11-26T03:41:22.232000-06:00",
     "start_time": "2017-11-26T03:41:17.923Z"
    }
   },
   "outputs": [
    {
     "data": {
      "text/plain": [
       "HeistFiles"
      ]
     },
     "execution_count": 10,
     "metadata": {},
     "output_type": "execute_result"
    }
   ],
   "source": [
    "# Constructor that creates the vector\n",
    "function HeistFiles(files::Array{String,1})\n",
    "    fv = icxx\"\"\"std::vector<std::string> fv; return fv;\"\"\"\n",
    "    for s ∈ files\n",
    "        icxx\"$fv.push_back($s);\"\n",
    "    end\n",
    "    \n",
    "    HeistFiles(files, fv)\n",
    "end"
   ]
  },
  {
   "cell_type": "code",
   "execution_count": 11,
   "metadata": {
    "ExecuteTime": {
     "end_time": "2017-11-26T03:41:22.844000-06:00",
     "start_time": "2017-11-26T03:41:18.057Z"
    }
   },
   "outputs": [],
   "source": [
    "hf = HeistFiles(files);"
   ]
  },
  {
   "cell_type": "markdown",
   "metadata": {},
   "source": [
    "Here's the include for the data product we care about"
   ]
  },
  {
   "cell_type": "code",
   "execution_count": 12,
   "metadata": {
    "ExecuteTime": {
     "end_time": "2017-11-26T03:41:22.851000-06:00",
     "start_time": "2017-11-26T03:41:18.342Z"
    }
   },
   "outputs": [
    {
     "data": {
      "text/plain": [
       "true"
      ]
     },
     "execution_count": 12,
     "metadata": {},
     "output_type": "execute_result"
    }
   ],
   "source": [
    "cxx\"\"\"\n",
    "   #include \"gm2dataproducts/mc/actions/track/TrackingActionArtRecord.hh\"\n",
    "\"\"\""
   ]
  },
  {
   "cell_type": "markdown",
   "metadata": {},
   "source": [
    "Now, we want to make the record specs. We won't use a dictionary here."
   ]
  },
  {
   "cell_type": "code",
   "execution_count": 13,
   "metadata": {
    "ExecuteTime": {
     "end_time": "2017-11-26T03:41:23.094000-06:00",
     "start_time": "2017-11-26T03:41:18.644Z"
    }
   },
   "outputs": [],
   "source": [
    "struct HeistRecordSpec\n",
    "   productName::String\n",
    "   artInputTag::Cxx.CppValue\n",
    "\n",
    "   function HeistRecordSpec(; namespace=\"\", productType=\"\", moduleLabel=\"\", instanceLabel=\"\")\n",
    "      @assert productType != \"\"\n",
    "      @assert moduleLabel != \"\"\n",
    "      productName = namespace == \"\" ? productType : namespace * \"::\" * productType\n",
    "      inputTagString = instanceLabel == \"\" ? moduleLabel : moduleLabel * \":\" * instanceLabel\n",
    "      new(productName, icxx\"\"\"art::InputTag it($inputTagString); return it;\"\"\")\n",
    "   end\n",
    "end"
   ]
  },
  {
   "cell_type": "code",
   "execution_count": 14,
   "metadata": {
    "ExecuteTime": {
     "end_time": "2017-11-26T03:41:26.328000-06:00",
     "start_time": "2017-11-26T03:41:18.780Z"
    }
   },
   "outputs": [
    {
     "data": {
      "text/plain": [
       "HeistRecordSpec(\"gm2truth::TrackingActionArtRecordCollection\", (class art::InputTag) {\n",
       "}\n",
       ")"
      ]
     },
     "execution_count": 14,
     "metadata": {},
     "output_type": "execute_result"
    }
   ],
   "source": [
    "trackingActionSpec = HeistRecordSpec(\n",
    "                           namespace = \"gm2truth\",\n",
    "                           productType = \"TrackingActionArtRecordCollection\",\n",
    "                           moduleLabel = \"artg4\")"
   ]
  },
  {
   "cell_type": "code",
   "execution_count": 15,
   "metadata": {
    "ExecuteTime": {
     "end_time": "2017-11-26T03:41:26.482000-06:00",
     "start_time": "2017-11-26T03:41:18.933Z"
    }
   },
   "outputs": [
    {
     "name": "stdout",
     "output_type": "stream",
     "text": [
      "artg4\n"
     ]
    },
    {
     "data": {
      "text/plain": [
       "(class std::basic_ostream<char> &) {\n",
       "}\n"
      ]
     },
     "execution_count": 15,
     "metadata": {},
     "output_type": "execute_result"
    }
   ],
   "source": [
    "icxx\"std::cout << $(trackingActionSpec.artInputTag).encode() << std::endl;\""
   ]
  },
  {
   "cell_type": "code",
   "execution_count": 16,
   "metadata": {
    "ExecuteTime": {
     "end_time": "2017-11-26T03:41:26.483000-06:00",
     "start_time": "2017-11-26T03:41:19.073Z"
    }
   },
   "outputs": [
    {
     "data": {
      "text/plain": [
       "\"gm2truth::TrackingActionArtRecordCollection\""
      ]
     },
     "execution_count": 16,
     "metadata": {},
     "output_type": "execute_result"
    }
   ],
   "source": [
    "trackingActionSpec.productName"
   ]
  },
  {
   "cell_type": "markdown",
   "metadata": {},
   "source": [
    "We now have enough to create a gallery event looper"
   ]
  },
  {
   "cell_type": "code",
   "execution_count": 17,
   "metadata": {
    "ExecuteTime": {
     "end_time": "2017-11-26T03:41:26.496000-06:00",
     "start_time": "2017-11-26T03:41:21.698Z"
    }
   },
   "outputs": [
    {
     "name": "stdout",
     "output_type": "stream",
     "text": [
      "/pnfs/GM2/mc/commission_mdc2_1033/runs_1509575000/1509575784/gm2ringsim_muon_beamgun_truth_1509575784.30.root\n"
     ]
    },
    {
     "data": {
      "text/plain": [
       "(class std::basic_ostream<char> &) {\n",
       "}\n"
      ]
     },
     "execution_count": 17,
     "metadata": {},
     "output_type": "execute_result"
    }
   ],
   "source": [
    "icxx\"std::cout << $(hf.theVector)[10] << std::endl;\""
   ]
  },
  {
   "cell_type": "markdown",
   "metadata": {
    "ExecuteTime": {
     "end_time": "2017-11-25T21:01:01.459000-06:00",
     "start_time": "2017-11-25T21:01:01.369Z"
    }
   },
   "source": [
    "NOTE: This is not the best way. See a better way below"
   ]
  },
  {
   "cell_type": "markdown",
   "metadata": {},
   "source": [
    "Remember how `for` loops work...\n",
    "\n",
    "```julia\n",
    "for i in iter   # or  \"for i = iter\"\n",
    "    # body\n",
    "end\n",
    "```\n",
    "is translated into:\n",
    "\n",
    "```julia\n",
    "state = start(iter)\n",
    "while !done(iter, state)\n",
    "    (i, state) = next(iter, state)\n",
    "    # body\n",
    "end\n",
    "```\n",
    "\n",
    "So we need to define the iterator object, state object and `start`, `done`, and `next`"
   ]
  },
  {
   "cell_type": "code",
   "execution_count": 18,
   "metadata": {
    "ExecuteTime": {
     "end_time": "2017-11-26T03:41:26.498000-06:00",
     "start_time": "2017-11-26T03:41:22.133Z"
    }
   },
   "outputs": [],
   "source": [
    "struct HeistLoop\n",
    "   hf::HeistFiles\n",
    "   count::Int\n",
    "end"
   ]
  },
  {
   "cell_type": "code",
   "execution_count": 19,
   "metadata": {
    "ExecuteTime": {
     "end_time": "2017-11-26T03:41:26.499000-06:00",
     "start_time": "2017-11-26T03:41:22.283Z"
    }
   },
   "outputs": [],
   "source": [
    "Base.start(::HeistLoop) = icxx\"\"\"gallery::Event ev($(hf.theVector)); return ev;\"\"\""
   ]
  },
  {
   "cell_type": "code",
   "execution_count": 20,
   "metadata": {
    "ExecuteTime": {
     "end_time": "2017-11-26T03:41:26.501000-06:00",
     "start_time": "2017-11-26T03:41:22.434Z"
    }
   },
   "outputs": [],
   "source": [
    "function Base.next(HL::HeistLoop, state)\n",
    "    @cxx state->next()\n",
    "    return (state, state)\n",
    "end"
   ]
  },
  {
   "cell_type": "code",
   "execution_count": 21,
   "metadata": {
    "ExecuteTime": {
     "end_time": "2017-11-26T03:41:26.503000-06:00",
     "start_time": "2017-11-26T03:41:22.593Z"
    }
   },
   "outputs": [],
   "source": [
    "function Base.done(HL::HeistLoop, state)\n",
    "    e = @cxx state->eventEntry()\n",
    "    atEnd = @cxx state->atEnd()\n",
    "    return atEnd || e ≥ HL.count  \n",
    "end"
   ]
  },
  {
   "cell_type": "code",
   "execution_count": 22,
   "metadata": {
    "ExecuteTime": {
     "end_time": "2017-11-26T03:41:26.505000-06:00",
     "start_time": "2017-11-26T03:41:22.751Z"
    }
   },
   "outputs": [],
   "source": [
    "Base.eltype(::Type{HeistLoop}) = Cxx.CppValue"
   ]
  },
  {
   "cell_type": "markdown",
   "metadata": {},
   "source": [
    "Let's see if this works"
   ]
  },
  {
   "cell_type": "code",
   "execution_count": 23,
   "metadata": {
    "ExecuteTime": {
     "end_time": "2017-11-26T03:41:26.677000-06:00",
     "start_time": "2017-11-26T03:41:23.066Z"
    }
   },
   "outputs": [
    {
     "data": {
      "text/plain": [
       "HeistLoop(HeistFiles(String[\"/pnfs/GM2/mc/commission_mdc2_1033/runs_1509575000/1509575784/gm2ringsim_muon_beamgun_truth_1509575784.300.root\", \"/pnfs/GM2/mc/commission_mdc2_1033/runs_1509575000/1509575784/gm2ringsim_muon_beamgun_truth_1509575784.301.root\", \"/pnfs/GM2/mc/commission_mdc2_1033/runs_1509575000/1509575784/gm2ringsim_muon_beamgun_truth_1509575784.302.root\", \"/pnfs/GM2/mc/commission_mdc2_1033/runs_1509575000/1509575784/gm2ringsim_muon_beamgun_truth_1509575784.303.root\", \"/pnfs/GM2/mc/commission_mdc2_1033/runs_1509575000/1509575784/gm2ringsim_muon_beamgun_truth_1509575784.304.root\", \"/pnfs/GM2/mc/commission_mdc2_1033/runs_1509575000/1509575784/gm2ringsim_muon_beamgun_truth_1509575784.305.root\", \"/pnfs/GM2/mc/commission_mdc2_1033/runs_1509575000/1509575784/gm2ringsim_muon_beamgun_truth_1509575784.306.root\", \"/pnfs/GM2/mc/commission_mdc2_1033/runs_1509575000/1509575784/gm2ringsim_muon_beamgun_truth_1509575784.307.root\", \"/pnfs/GM2/mc/commission_mdc2_1033/runs_1509575000/1509575784/gm2ringsim_muon_beamgun_truth_1509575784.308.root\", \"/pnfs/GM2/mc/commission_mdc2_1033/runs_1509575000/1509575784/gm2ringsim_muon_beamgun_truth_1509575784.309.root\", \"/pnfs/GM2/mc/commission_mdc2_1033/runs_1509575000/1509575784/gm2ringsim_muon_beamgun_truth_1509575784.30.root\"], (class std::vector<class std::__cxx11::basic_string<char>, class std::allocator<class std::__cxx11::basic_string<char> > >) {\n",
       "}\n",
       "), 10)"
      ]
     },
     "execution_count": 23,
     "metadata": {},
     "output_type": "execute_result"
    }
   ],
   "source": [
    "h = HeistLoop(hf, 10)"
   ]
  },
  {
   "cell_type": "code",
   "execution_count": 24,
   "metadata": {
    "ExecuteTime": {
     "end_time": "2017-11-26T03:41:28.215000-06:00",
     "start_time": "2017-11-26T03:41:23.210Z"
    }
   },
   "outputs": [
    {
     "name": "stdout",
     "output_type": "stream",
     "text": [
      "Successfully opened file /pnfs/GM2/mc/commission_mdc2_1033/runs_1509575000/1509575784/gm2ringsim_muon_beamgun_truth_1509575784.300.root\n"
     ]
    },
    {
     "data": {
      "text/plain": [
       "(class gallery::Event) {\n",
       "}\n"
      ]
     },
     "execution_count": 24,
     "metadata": {},
     "output_type": "execute_result"
    }
   ],
   "source": [
    "s = start(h)"
   ]
  },
  {
   "cell_type": "code",
   "execution_count": 25,
   "metadata": {
    "ExecuteTime": {
     "end_time": "2017-11-26T03:41:28.569000-06:00",
     "start_time": "2017-11-26T03:41:23.378Z"
    }
   },
   "outputs": [
    {
     "data": {
      "text/plain": [
       "false"
      ]
     },
     "execution_count": 25,
     "metadata": {},
     "output_type": "execute_result"
    }
   ],
   "source": [
    "done(h, s)"
   ]
  },
  {
   "cell_type": "code",
   "execution_count": 26,
   "metadata": {
    "ExecuteTime": {
     "end_time": "2017-11-26T03:41:28.733000-06:00",
     "start_time": "2017-11-26T03:41:23.682Z"
    }
   },
   "outputs": [
    {
     "data": {
      "text/plain": [
       "((class gallery::Event) {\n",
       "}\n",
       ", (class gallery::Event) {\n",
       "}\n",
       ")"
      ]
     },
     "execution_count": 26,
     "metadata": {},
     "output_type": "execute_result"
    }
   ],
   "source": [
    "(i, s) = next(h, s)"
   ]
  },
  {
   "cell_type": "code",
   "execution_count": 27,
   "metadata": {
    "ExecuteTime": {
     "end_time": "2017-11-26T03:41:28.843000-06:00",
     "start_time": "2017-11-26T03:41:23.826Z"
    }
   },
   "outputs": [
    {
     "data": {
      "text/plain": [
       "1"
      ]
     },
     "execution_count": 27,
     "metadata": {},
     "output_type": "execute_result"
    }
   ],
   "source": [
    "@cxx s->eventEntry()"
   ]
  },
  {
   "cell_type": "code",
   "execution_count": 28,
   "metadata": {
    "ExecuteTime": {
     "end_time": "2017-11-26T03:41:28.844000-06:00",
     "start_time": "2017-11-26T03:41:23.979Z"
    }
   },
   "outputs": [
    {
     "data": {
      "text/plain": [
       "false"
      ]
     },
     "execution_count": 28,
     "metadata": {},
     "output_type": "execute_result"
    }
   ],
   "source": [
    "done(h, s)"
   ]
  },
  {
   "cell_type": "code",
   "execution_count": 29,
   "metadata": {
    "ExecuteTime": {
     "end_time": "2017-11-26T03:41:28.919000-06:00",
     "start_time": "2017-11-26T03:41:24.113Z"
    }
   },
   "outputs": [
    {
     "name": "stdout",
     "output_type": "stream",
     "text": [
      "Successfully opened file /pnfs/GM2/mc/commission_mdc2_1033/runs_1509575000/1509575784/gm2ringsim_muon_beamgun_truth_1509575784.300.root\n",
      "1\n",
      "2\n",
      "3\n",
      "4\n",
      "5\n",
      "6\n",
      "7\n",
      "8\n",
      "9\n",
      "10\n",
      "11\n",
      "12\n",
      "13\n",
      "14\n",
      "15\n",
      "16\n",
      "17\n",
      "18\n",
      "19\n",
      "20\n",
      "21\n",
      "22\n",
      "23\n",
      "24\n",
      "25\n",
      "26\n",
      "27\n",
      "28\n",
      "29\n",
      "30\n"
     ]
    }
   ],
   "source": [
    "for i ∈ HeistLoop(hf, 30)\n",
    "    println( @cxx i->eventEntry() )\n",
    "end"
   ]
  },
  {
   "cell_type": "code",
   "execution_count": 30,
   "metadata": {
    "ExecuteTime": {
     "end_time": "2017-11-26T03:41:28.922000-06:00",
     "start_time": "2017-11-26T03:41:25.657Z"
    }
   },
   "outputs": [
    {
     "data": {
      "text/plain": [
       "HeistLoop(HeistFiles(String[\"/pnfs/GM2/mc/commission_mdc2_1033/runs_1509575000/1509575784/gm2ringsim_muon_beamgun_truth_1509575784.300.root\", \"/pnfs/GM2/mc/commission_mdc2_1033/runs_1509575000/1509575784/gm2ringsim_muon_beamgun_truth_1509575784.301.root\", \"/pnfs/GM2/mc/commission_mdc2_1033/runs_1509575000/1509575784/gm2ringsim_muon_beamgun_truth_1509575784.302.root\", \"/pnfs/GM2/mc/commission_mdc2_1033/runs_1509575000/1509575784/gm2ringsim_muon_beamgun_truth_1509575784.303.root\", \"/pnfs/GM2/mc/commission_mdc2_1033/runs_1509575000/1509575784/gm2ringsim_muon_beamgun_truth_1509575784.304.root\", \"/pnfs/GM2/mc/commission_mdc2_1033/runs_1509575000/1509575784/gm2ringsim_muon_beamgun_truth_1509575784.305.root\", \"/pnfs/GM2/mc/commission_mdc2_1033/runs_1509575000/1509575784/gm2ringsim_muon_beamgun_truth_1509575784.306.root\", \"/pnfs/GM2/mc/commission_mdc2_1033/runs_1509575000/1509575784/gm2ringsim_muon_beamgun_truth_1509575784.307.root\", \"/pnfs/GM2/mc/commission_mdc2_1033/runs_1509575000/1509575784/gm2ringsim_muon_beamgun_truth_1509575784.308.root\", \"/pnfs/GM2/mc/commission_mdc2_1033/runs_1509575000/1509575784/gm2ringsim_muon_beamgun_truth_1509575784.309.root\", \"/pnfs/GM2/mc/commission_mdc2_1033/runs_1509575000/1509575784/gm2ringsim_muon_beamgun_truth_1509575784.30.root\"], (class std::vector<class std::__cxx11::basic_string<char>, class std::allocator<class std::__cxx11::basic_string<char> > >) {\n",
       "}\n",
       "), 30)"
      ]
     },
     "execution_count": 30,
     "metadata": {},
     "output_type": "execute_result"
    }
   ],
   "source": [
    "h = HeistLoop(hf, 30)"
   ]
  },
  {
   "cell_type": "code",
   "execution_count": 31,
   "metadata": {
    "ExecuteTime": {
     "end_time": "2017-11-26T03:41:28.952000-06:00",
     "start_time": "2017-11-26T03:41:25.818Z"
    }
   },
   "outputs": [
    {
     "name": "stdout",
     "output_type": "stream",
     "text": [
      "Successfully opened file /pnfs/GM2/mc/commission_mdc2_1033/runs_1509575000/1509575784/gm2ringsim_muon_beamgun_truth_1509575784.300.root\n"
     ]
    },
    {
     "data": {
      "text/plain": [
       "(class gallery::Event) {\n",
       "}\n"
      ]
     },
     "execution_count": 31,
     "metadata": {},
     "output_type": "execute_result"
    }
   ],
   "source": [
    "s = start(h)"
   ]
  },
  {
   "cell_type": "code",
   "execution_count": 32,
   "metadata": {
    "ExecuteTime": {
     "end_time": "2017-11-26T03:41:28.953000-06:00",
     "start_time": "2017-11-26T03:41:25.962Z"
    }
   },
   "outputs": [
    {
     "data": {
      "text/plain": [
       "(class gallery::Event) {\n",
       "}\n"
      ]
     },
     "execution_count": 32,
     "metadata": {},
     "output_type": "execute_result"
    }
   ],
   "source": [
    "s"
   ]
  },
  {
   "cell_type": "code",
   "execution_count": 33,
   "metadata": {
    "ExecuteTime": {
     "end_time": "2017-11-26T03:41:28.962000-06:00",
     "start_time": "2017-11-26T03:41:26.097Z"
    }
   },
   "outputs": [
    {
     "data": {
      "text/plain": [
       "4000"
      ]
     },
     "execution_count": 33,
     "metadata": {},
     "output_type": "execute_result"
    }
   ],
   "source": [
    "@cxx s->numberOfEventsInFile()"
   ]
  },
  {
   "cell_type": "markdown",
   "metadata": {},
   "source": [
    "Problems with this...\n",
    "* We miss the first event\n",
    "* The count is by event number, not by # of events seen\n",
    "\n",
    "Maybe make the state a struct with count and event and see if we can make it incomplete at start (not have the event at the beginning). It will work if `state` is mutable. See \n",
    "https://docs.julialang.org/en/stable/manual/constructors/#Incomplete-Initialization-1"
   ]
  },
  {
   "cell_type": "markdown",
   "metadata": {},
   "source": [
    "Change the name of HeistLoop to HeistEvents"
   ]
  },
  {
   "cell_type": "markdown",
   "metadata": {},
   "source": [
    "Ok - let's try this ..."
   ]
  },
  {
   "cell_type": "code",
   "execution_count": 34,
   "metadata": {
    "ExecuteTime": {
     "end_time": "2017-11-26T03:41:28.963000-06:00",
     "start_time": "2017-11-26T03:41:26.809Z"
    }
   },
   "outputs": [
    {
     "data": {
      "text/plain": [
       "Void"
      ]
     },
     "execution_count": 34,
     "metadata": {},
     "output_type": "execute_result"
    }
   ],
   "source": [
    "a = nothing ; typeof(a)"
   ]
  },
  {
   "cell_type": "code",
   "execution_count": 35,
   "metadata": {
    "ExecuteTime": {
     "end_time": "2017-11-26T03:41:29.144000-06:00",
     "start_time": "2017-11-26T03:41:26.961Z"
    }
   },
   "outputs": [
    {
     "data": {
      "text/plain": [
       "atEnd (generic function with 1 method)"
      ]
     },
     "execution_count": 35,
     "metadata": {},
     "output_type": "execute_result"
    }
   ],
   "source": [
    "# Define a HeistEvent\n",
    "mutable struct HeistEvent\n",
    "   galleryEvent::Cxx.CppValue\n",
    "   nSeen::Int\n",
    "\n",
    "   HeistEvent(hf::HeistFiles) = new( icxx\"gallery::Event ev($(hf.theVector)); return ev;\", 1)\n",
    "end\n",
    "\n",
    "nextEvent(he::HeistEvent) = ( @cxx he.galleryEvent->next() ; he.nSeen += 1; he )\n",
    "atEnd(he::HeistEvent) = @cxx he.galleryEvent->atEnd()\n"
   ]
  },
  {
   "cell_type": "code",
   "execution_count": 36,
   "metadata": {
    "ExecuteTime": {
     "end_time": "2017-11-26T03:41:30.374000-06:00",
     "start_time": "2017-11-26T03:41:30.057Z"
    }
   },
   "outputs": [
    {
     "name": "stdout",
     "output_type": "stream",
     "text": [
      "Successfully opened file /pnfs/GM2/mc/commission_mdc2_1033/runs_1509575000/1509575784/gm2ringsim_muon_beamgun_truth_1509575784.300.root\n"
     ]
    },
    {
     "data": {
      "text/plain": [
       "HeistEvent((class gallery::Event) {\n",
       "}\n",
       ", 1)"
      ]
     },
     "execution_count": 36,
     "metadata": {},
     "output_type": "execute_result"
    }
   ],
   "source": [
    "he = HeistEvent(hf)"
   ]
  },
  {
   "cell_type": "code",
   "execution_count": 37,
   "metadata": {
    "ExecuteTime": {
     "end_time": "2017-11-26T03:41:31.916000-06:00",
     "start_time": "2017-11-26T03:41:31.769Z"
    }
   },
   "outputs": [
    {
     "data": {
      "text/plain": [
       "false"
      ]
     },
     "execution_count": 37,
     "metadata": {},
     "output_type": "execute_result"
    }
   ],
   "source": [
    "atEnd(he)"
   ]
  },
  {
   "cell_type": "code",
   "execution_count": 38,
   "metadata": {
    "ExecuteTime": {
     "end_time": "2017-11-26T03:41:32.518000-06:00",
     "start_time": "2017-11-26T03:41:32.377Z"
    }
   },
   "outputs": [
    {
     "data": {
      "text/plain": [
       "0"
      ]
     },
     "execution_count": 38,
     "metadata": {},
     "output_type": "execute_result"
    }
   ],
   "source": [
    "@cxx he.galleryEvent->eventEntry()"
   ]
  },
  {
   "cell_type": "code",
   "execution_count": 39,
   "metadata": {
    "ExecuteTime": {
     "end_time": "2017-11-26T03:41:33.824000-06:00",
     "start_time": "2017-11-26T03:41:33.707Z"
    }
   },
   "outputs": [],
   "source": [
    "# Define a looper\n",
    "struct HeistEvents\n",
    "   hf::HeistFiles\n",
    "   nDesired::Int\n",
    "end"
   ]
  },
  {
   "cell_type": "code",
   "execution_count": 40,
   "metadata": {
    "ExecuteTime": {
     "end_time": "2017-11-26T03:41:34.911000-06:00",
     "start_time": "2017-11-26T03:41:34.768Z"
    }
   },
   "outputs": [],
   "source": [
    "Base.start(::HeistEvents) = nothing   # Don't do anything at the start -- next will make the HeistEvent -- this allows us to see the first event\n",
    "\n",
    "Base.next(hes::HeistEvents, state::Void) = (he = HeistEvent(hes.hf) ; (he, he) )  # Multiple dispatch in action!\n",
    "Base.next(hes::HeistEvents, state::HeistEvent) = (nextEvent(state), state)\n",
    "\n",
    "Base.done(hes::HeistEvents, state::Void) = false\n",
    "Base.done(hes::HeistEvents, state::HeistEvent) = atEnd(state) || state.nSeen ≥ hes.nDesired"
   ]
  },
  {
   "cell_type": "code",
   "execution_count": 41,
   "metadata": {
    "ExecuteTime": {
     "end_time": "2017-11-26T03:41:35.058000-06:00",
     "start_time": "2017-11-26T03:41:34.915Z"
    }
   },
   "outputs": [],
   "source": [
    "hes = HeistEvents(hf, 7);"
   ]
  },
  {
   "cell_type": "code",
   "execution_count": 42,
   "metadata": {
    "ExecuteTime": {
     "end_time": "2017-11-26T03:41:35.469000-06:00",
     "start_time": "2017-11-26T03:41:35.329Z"
    }
   },
   "outputs": [],
   "source": [
    "s = start(hes)"
   ]
  },
  {
   "cell_type": "code",
   "execution_count": 43,
   "metadata": {
    "ExecuteTime": {
     "end_time": "2017-11-26T03:41:35.661000-06:00",
     "start_time": "2017-11-26T03:41:35.522Z"
    }
   },
   "outputs": [
    {
     "data": {
      "text/plain": [
       "Void"
      ]
     },
     "execution_count": 43,
     "metadata": {},
     "output_type": "execute_result"
    }
   ],
   "source": [
    "typeof(s)"
   ]
  },
  {
   "cell_type": "code",
   "execution_count": 44,
   "metadata": {
    "ExecuteTime": {
     "end_time": "2017-11-26T03:41:36.097000-06:00",
     "start_time": "2017-11-26T03:41:35.755Z"
    }
   },
   "outputs": [
    {
     "name": "stdout",
     "output_type": "stream",
     "text": [
      "Successfully opened file /pnfs/GM2/mc/commission_mdc2_1033/runs_1509575000/1509575784/gm2ringsim_muon_beamgun_truth_1509575784.300.root\n"
     ]
    },
    {
     "data": {
      "text/plain": [
       "(HeistEvent((class gallery::Event) {\n",
       "}\n",
       ", 1), HeistEvent((class gallery::Event) {\n",
       "}\n",
       ", 1))"
      ]
     },
     "execution_count": 44,
     "metadata": {},
     "output_type": "execute_result"
    }
   ],
   "source": [
    "(i, s) = next(hes, s)"
   ]
  },
  {
   "cell_type": "code",
   "execution_count": 45,
   "metadata": {
    "ExecuteTime": {
     "end_time": "2017-11-26T03:41:37.404000-06:00",
     "start_time": "2017-11-26T03:41:37.265Z"
    }
   },
   "outputs": [
    {
     "data": {
      "text/plain": [
       "0"
      ]
     },
     "execution_count": 45,
     "metadata": {},
     "output_type": "execute_result"
    }
   ],
   "source": [
    "@cxx i.galleryEvent->eventEntry()"
   ]
  },
  {
   "cell_type": "code",
   "execution_count": 46,
   "metadata": {
    "ExecuteTime": {
     "end_time": "2017-11-26T03:41:37.813000-06:00",
     "start_time": "2017-11-26T03:41:37.674Z"
    }
   },
   "outputs": [
    {
     "data": {
      "text/plain": [
       "1"
      ]
     },
     "execution_count": 46,
     "metadata": {},
     "output_type": "execute_result"
    }
   ],
   "source": [
    "i.nSeen"
   ]
  },
  {
   "cell_type": "code",
   "execution_count": 47,
   "metadata": {
    "ExecuteTime": {
     "end_time": "2017-11-26T03:41:38.296000-06:00",
     "start_time": "2017-11-26T03:41:38.154Z"
    }
   },
   "outputs": [
    {
     "data": {
      "text/plain": [
       "(HeistEvent((class gallery::Event) {\n",
       "}\n",
       ", 2), HeistEvent((class gallery::Event) {\n",
       "}\n",
       ", 2))"
      ]
     },
     "execution_count": 47,
     "metadata": {},
     "output_type": "execute_result"
    }
   ],
   "source": [
    "(i, s) = next(hes, s)"
   ]
  },
  {
   "cell_type": "code",
   "execution_count": 48,
   "metadata": {
    "ExecuteTime": {
     "end_time": "2017-11-26T03:41:39.231000-06:00",
     "start_time": "2017-11-26T03:41:39.089Z"
    }
   },
   "outputs": [
    {
     "data": {
      "text/plain": [
       "false"
      ]
     },
     "execution_count": 48,
     "metadata": {},
     "output_type": "execute_result"
    }
   ],
   "source": [
    "done(hes, s)"
   ]
  },
  {
   "cell_type": "code",
   "execution_count": 49,
   "metadata": {
    "ExecuteTime": {
     "end_time": "2017-11-26T03:41:40.503000-06:00",
     "start_time": "2017-11-26T03:41:39.893Z"
    }
   },
   "outputs": [
    {
     "name": "stdout",
     "output_type": "stream",
     "text": [
      "Successfully opened file /pnfs/GM2/mc/commission_mdc2_1033/runs_1509575000/1509575784/gm2ringsim_muon_beamgun_truth_1509575784.300.root\n",
      "0\n",
      "1\n",
      "2\n",
      "3\n",
      "4\n",
      "5\n",
      "6\n",
      "7\n",
      "8\n",
      "9\n",
      "  0.115149 seconds (316 allocations: 8.141 KiB)\n"
     ]
    }
   ],
   "source": [
    "@time for i ∈ HeistEvents(hf, 10)\n",
    "    println( @cxx i.galleryEvent->eventEntry() )\n",
    "end"
   ]
  },
  {
   "cell_type": "markdown",
   "metadata": {},
   "source": [
    "Ok - now we need to get some data out of this. Let's get an event"
   ]
  },
  {
   "cell_type": "code",
   "execution_count": 75,
   "metadata": {
    "ExecuteTime": {
     "end_time": "2017-11-26T03:48:21.616000-06:00",
     "start_time": "2017-11-26T03:48:21.455Z"
    }
   },
   "outputs": [
    {
     "name": "stdout",
     "output_type": "stream",
     "text": [
      "Successfully opened file /pnfs/GM2/mc/commission_mdc2_1033/runs_1509575000/1509575784/gm2ringsim_muon_beamgun_truth_1509575784.300.root\n"
     ]
    }
   ],
   "source": [
    "he = HeistEvent(hf);"
   ]
  },
  {
   "cell_type": "markdown",
   "metadata": {},
   "source": [
    "Let's define a `getRecord` method for `HeistEvent`"
   ]
  },
  {
   "cell_type": "code",
   "execution_count": 118,
   "metadata": {
    "ExecuteTime": {
     "end_time": "2017-11-26T04:20:55.409000-06:00",
     "start_time": "2017-11-26T04:20:55.331Z"
    }
   },
   "outputs": [
    {
     "data": {
      "text/plain": [
       "getRecord (generic function with 1 method)"
      ]
     },
     "execution_count": 118,
     "metadata": {},
     "output_type": "execute_result"
    }
   ],
   "source": [
    "function getRecord(he::HeistEvent, rs::HeistRecordSpec)\n",
    "\n",
    "    pn = rs.productName\n",
    "    it = rs.artInputTag\n",
    "    ev = he.galleryEvent\n",
    "    cxxparse(\"#define TYP \" * pn)\n",
    "    icxx\"\"\"\n",
    "        auto const h = $ev.getValidHandle<TYP>($it); return h;\n",
    "    \"\"\"\n",
    "end"
   ]
  },
  {
   "cell_type": "code",
   "execution_count": 119,
   "metadata": {
    "ExecuteTime": {
     "end_time": "2017-11-26T04:20:56.368000-06:00",
     "start_time": "2017-11-26T04:20:56.289Z"
    }
   },
   "outputs": [
    {
     "data": {
      "text/plain": [
       "HeistRecordSpec(\"gm2truth::TrackingActionArtRecordCollection\", (class art::InputTag) {\n",
       "}\n",
       ")"
      ]
     },
     "execution_count": 119,
     "metadata": {},
     "output_type": "execute_result"
    }
   ],
   "source": [
    "trackingActionSpec"
   ]
  },
  {
   "cell_type": "code",
   "execution_count": 121,
   "metadata": {
    "ExecuteTime": {
     "end_time": "2017-11-26T04:21:20.520000-06:00",
     "start_time": "2017-11-26T04:21:20.440Z"
    }
   },
   "outputs": [
    {
     "data": {
      "text/plain": [
       "(const class gallery::ValidHandle<class std::vector<struct gm2truth::TrackingActionArtRecord, class std::allocator<struct gm2truth::TrackingActionArtRecord> > >) {\n",
       "}\n"
      ]
     },
     "execution_count": 121,
     "metadata": {},
     "output_type": "execute_result"
    }
   ],
   "source": [
    "th = getRecord(he, trackingActionSpec)"
   ]
  },
  {
   "cell_type": "code",
   "execution_count": 122,
   "metadata": {
    "ExecuteTime": {
     "end_time": "2017-11-26T04:21:44.111000-06:00",
     "start_time": "2017-11-26T04:21:44.024Z"
    }
   },
   "outputs": [
    {
     "data": {
      "text/plain": [
       "0x0000000000000255"
      ]
     },
     "execution_count": 122,
     "metadata": {},
     "output_type": "execute_result"
    }
   ],
   "source": [
    "icxx\"$th->size();\""
   ]
  },
  {
   "cell_type": "code",
   "execution_count": 123,
   "metadata": {
    "ExecuteTime": {
     "end_time": "2017-11-26T04:23:04.298000-06:00",
     "start_time": "2017-11-26T04:23:04.199Z"
    }
   },
   "outputs": [
    {
     "data": {
      "text/markdown": [
       "No documentation found.\n",
       "\n",
       "`Base.Pkg.generate` is a `Function`.\n",
       "\n",
       "```\n",
       "# 1 method for generic function \"generate\":\n",
       "generate(pkg, license) in Base.Pkg at pkg/pkg.jl:307\n",
       "```\n"
      ],
      "text/plain": [
       "No documentation found.\n",
       "\n",
       "`Base.Pkg.generate` is a `Function`.\n",
       "\n",
       "```\n",
       "# 1 method for generic function \"generate\":\n",
       "generate(pkg, license) in Base.Pkg at pkg/pkg.jl:307\n",
       "```\n"
      ]
     },
     "execution_count": 123,
     "metadata": {},
     "output_type": "execute_result"
    }
   ],
   "source": [
    "?Pkg.generate"
   ]
  },
  {
   "cell_type": "code",
   "execution_count": 125,
   "metadata": {
    "ExecuteTime": {
     "end_time": "2017-11-26T04:37:39.165000-06:00",
     "start_time": "2017-11-26T04:36:25.379Z"
    }
   },
   "outputs": [
    {
     "name": "stderr",
     "output_type": "stream",
     "text": [
      "\u001b[1m\u001b[36mINFO: \u001b[39m\u001b[22m\u001b[36mCloning cache of PkgDev from https://github.com/JuliaLang/PkgDev.jl.git\n",
      "\u001b[39m\u001b[1m\u001b[36mINFO: \u001b[39m\u001b[22m\u001b[36mInstalling PkgDev v0.1.6\n",
      "\u001b[39m\u001b[1m\u001b[36mINFO: \u001b[39m\u001b[22m\u001b[36mPackage database updated\n",
      "\u001b[39m\u001b[1m\u001b[36mINFO: \u001b[39m\u001b[22m\u001b[36mMETADATA is out-of-date — you may not have the latest version of PkgDev\n",
      "\u001b[39m\u001b[1m\u001b[36mINFO: \u001b[39m\u001b[22m\u001b[36mUse `Pkg.update()` to get the latest versions of your packages\n",
      "\u001b[39m"
     ]
    }
   ],
   "source": [
    "Pkg.add(\"PkgDev\")"
   ]
  },
  {
   "cell_type": "code",
   "execution_count": 127,
   "metadata": {
    "ExecuteTime": {
     "end_time": "2017-11-26T04:47:02.564000-06:00",
     "start_time": "2017-11-26T04:44:37.508Z"
    }
   },
   "outputs": [
    {
     "name": "stderr",
     "output_type": "stream",
     "text": [
      "\u001b[1m\u001b[36mINFO: \u001b[39m\u001b[22m\u001b[36mUpdating METADATA...\n",
      "\u001b[39m\u001b[1m\u001b[36mINFO: \u001b[39m\u001b[22m\u001b[36mUpdating cache of NaNMath...\n",
      "\u001b[39m\u001b[1m\u001b[36mINFO: \u001b[39m\u001b[22m\u001b[36mUpdating cache of Compat...\n",
      "\u001b[39m\u001b[1m\u001b[36mINFO: \u001b[39m\u001b[22m\u001b[36mUpdating cache of JSON...\n",
      "\u001b[39m\u001b[1m\u001b[36mINFO: \u001b[39m\u001b[22m\u001b[36mComputing changes...\n",
      "\u001b[39m\u001b[1m\u001b[36mINFO: \u001b[39m\u001b[22m\u001b[36mUpgrading NaNMath: v0.2.6 => v0.3.0\n",
      "\u001b[39m"
     ]
    }
   ],
   "source": [
    "Pkg.update()"
   ]
  },
  {
   "cell_type": "code",
   "execution_count": 129,
   "metadata": {
    "ExecuteTime": {
     "end_time": "2017-11-26T05:09:31.726000-06:00",
     "start_time": "2017-11-26T05:06:32.087Z"
    }
   },
   "outputs": [
    {
     "name": "stderr",
     "output_type": "stream",
     "text": [
      "\u001b[1m\u001b[36mINFO: \u001b[39m\u001b[22m\u001b[36mCloning cache of DocStringExtensions from https://github.com/JuliaDocs/DocStringExtensions.jl.git\n",
      "\u001b[39m\u001b[1m\u001b[36mINFO: \u001b[39m\u001b[22m\u001b[36mCloning cache of Documenter from https://github.com/JuliaDocs/Documenter.jl.git\n",
      "\u001b[39m\u001b[1m\u001b[36mINFO: \u001b[39m\u001b[22m\u001b[36mInstalling DocStringExtensions v0.4.1\n",
      "\u001b[39m\u001b[1m\u001b[36mINFO: \u001b[39m\u001b[22m\u001b[36mInstalling Documenter v0.12.3\n",
      "\u001b[39m\u001b[1m\u001b[36mINFO: \u001b[39m\u001b[22m\u001b[36mPackage database updated\n",
      "\u001b[39m"
     ]
    }
   ],
   "source": [
    "Pkg.add(\"Documenter\")"
   ]
  },
  {
   "cell_type": "code",
   "execution_count": 130,
   "metadata": {
    "ExecuteTime": {
     "end_time": "2017-11-26T05:31:18.437000-06:00",
     "start_time": "2017-11-26T05:31:17.807Z"
    }
   },
   "outputs": [
    {
     "data": {
      "text/plain": [
       "2-element Array{Any,1}:\n",
       " \"/Users/lyon/Development/julia/julia-centos6-prod8/julia/usr/local/share/julia/site/v0.6\"\n",
       " \"/Users/lyon/Development/julia/julia-centos6-prod8/julia/usr/share/julia/site/v0.6\"      "
      ]
     },
     "execution_count": 130,
     "metadata": {},
     "output_type": "execute_result"
    }
   ],
   "source": [
    "LOAD_PATH"
   ]
  },
  {
   "cell_type": "code",
   "execution_count": 131,
   "metadata": {
    "ExecuteTime": {
     "end_time": "2017-11-26T05:40:17.083000-06:00",
     "start_time": "2017-11-26T05:40:13.600Z"
    }
   },
   "outputs": [
    {
     "name": "stderr",
     "output_type": "stream",
     "text": [
      "\u001b[1m\u001b[36mINFO: \u001b[39m\u001b[22m\u001b[36mPrecompiling module PkgDev.\n",
      "\u001b[39m\u001b[1m\u001b[33mWARNING: \u001b[39m\u001b[22m\u001b[33mPkgDev.jl is not configured. Please, run `PkgDev.config()` before performing any operations.\u001b[39m\n"
     ]
    }
   ],
   "source": [
    "import PkgDev"
   ]
  },
  {
   "cell_type": "code",
   "execution_count": null,
   "metadata": {
    "ExecuteTime": {
     "start_time": "2017-11-26T05:40:47.178Z"
    }
   },
   "outputs": [
    {
     "name": "stdout",
     "output_type": "stream",
     "text": [
      "PkgDev.jl configuration:\n",
      "Enter user name:Enter user email:Enter GitHub user [rm -f ./rik_kernel-8129371a-a106-4d67-856d-90baa8961a76.json]:"
     ]
    }
   ],
   "source": [
    "PkgDev.config()"
   ]
  },
  {
   "cell_type": "code",
   "execution_count": null,
   "metadata": {
    "ExecuteTime": {
     "start_time": "2017-11-26T06:15:03.995Z"
    }
   },
   "outputs": [],
   "source": [
    "cxxparse(#include \"gm2dataproducts/mc/actions/track/TrackingActionArtRecord.hh\")"
   ]
  },
  {
   "cell_type": "code",
   "execution_count": null,
   "metadata": {},
   "outputs": [],
   "source": []
  }
 ],
 "metadata": {
  "kernelspec": {
   "display_name": "SSH vagrant IJulia 0.6.1root",
   "language": "julia",
   "name": "rik_ssh_vagrant_ijulia061root"
  },
  "language_info": {
   "file_extension": ".jl",
   "mimetype": "application/julia",
   "name": "julia",
   "version": "0.6.1"
  },
  "toc": {
   "nav_menu": {},
   "number_sections": true,
   "sideBar": true,
   "skip_h1_title": true,
   "toc_cell": false,
   "toc_position": {},
   "toc_section_display": "block",
   "toc_window_display": false
  }
 },
 "nbformat": 4,
 "nbformat_minor": 2
}
